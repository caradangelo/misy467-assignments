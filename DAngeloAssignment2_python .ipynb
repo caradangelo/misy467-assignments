{
 "cells": [
  {
   "cell_type": "markdown",
   "metadata": {},
   "source": [
    "# Python 3.6+\n",
    "We assume you are using Python 3.6+ in this course"
   ]
  },
  {
   "cell_type": "markdown",
   "metadata": {},
   "source": [
    "# Question 1\n",
    "\n",
    "Review list comprehension if needed: https://realpython.com/list-comprehension-python/\n",
    "\n",
    "The formula for list comprehension is: `new_list = [expression for member in iterable (if conditional)]`\n",
    "\n",
    "You need to do the following:\n",
    "1. use a loop to create a list of 5 cube numbers and print the list：[0, 1, 8, 27, 64]\n",
    "2. use list comprehension to create the same list\n",
    "3. find the postions of all vowels in a sentence using list comprehension"
   ]
  },
  {
   "cell_type": "code",
   "execution_count": 1,
   "metadata": {},
   "outputs": [
    {
     "data": {
      "text/plain": [
       "[0, 1, 8, 27, 64]"
      ]
     },
     "execution_count": 1,
     "metadata": {},
     "output_type": "execute_result"
    }
   ],
   "source": [
    "# use a loop to create a list\n",
    "cubes = []\n",
    "for i in range(5):\n",
    "    cubes.append(i*i*i)\n",
    "cubes"
   ]
  },
  {
   "cell_type": "code",
   "execution_count": 2,
   "metadata": {},
   "outputs": [
    {
     "data": {
      "text/plain": [
       "[0, 1, 8, 27, 64]"
      ]
     },
     "execution_count": 2,
     "metadata": {},
     "output_type": "execute_result"
    }
   ],
   "source": [
    "# use list comprehension to create the same list\n",
    "new_cubes = [i*i*i for i in range(5)]\n",
    "new_cubes"
   ]
  },
  {
   "cell_type": "code",
   "execution_count": 7,
   "metadata": {},
   "outputs": [
    {
     "data": {
      "text/plain": [
       "[1, 5, 10, 1, 17, 10, 10, 17, 10, 5, 37, 17, 1]"
      ]
     },
     "execution_count": 7,
     "metadata": {},
     "output_type": "execute_result"
    }
   ],
   "source": [
    "# find the positions of all vowels in the following sentence using list comprehension\n",
    "sentence = \"Talk is cheap. Show me the code - Linus Torvalds\"\n",
    "vowels = [sentence.index(i) for i in sentence if i in 'aeiou']\n",
    "vowels"
   ]
  },
  {
   "cell_type": "markdown",
   "metadata": {},
   "source": [
    "# Question 2\n",
    "You need to use to format strings\n",
    "\n",
    "Write a program using the \"f-strings\" (https://realpython.com/python-f-strings/), conditional statements, user input function to convert temperatures to and from Celsius, Fahrenheit. [Formula: Celsius/5 = (Fahrenheit – 32)/9]\n",
    "\n",
    "Hint: you may need int() function\n",
    "\n",
    "An example program output:\n",
    "```\n",
    "Please enter the temperature: 60\n",
    "Is this Celsius or Fahrenheit? C\n",
    "60C is 140 in Fahrenheit\n",
    "```\n",
    "\n",
    "Another example:\n",
    "```\n",
    "Please enter the temperature: 45\n",
    "Is this Celsius or Fahrenheit? F\n",
    "45F is 7 in Celsius\n",
    "```"
   ]
  },
  {
   "cell_type": "code",
   "execution_count": 8,
   "metadata": {},
   "outputs": [
    {
     "name": "stdout",
     "output_type": "stream",
     "text": [
      "What's your name?Cara\n",
      "Welcome! Cara\n"
     ]
    }
   ],
   "source": [
    "# an example of f-strings and user input function\n",
    "username = input('What\\'s your name?')\n",
    "print(f'Welcome! {username}')"
   ]
  },
  {
   "cell_type": "code",
   "execution_count": 15,
   "metadata": {},
   "outputs": [
    {
     "name": "stdout",
     "output_type": "stream",
     "text": [
      "Please enter the temperature: 45\n",
      "Is this Celsius or Fahrenheit? F\n",
      "45F is 7.222222222222222 in Celsius.\n"
     ]
    }
   ],
   "source": [
    "# complete your program here\n",
    "temp = int(input('Please enter the temperature: '))\n",
    "measure = input('Is this Celsius or Fahrenheit? ')\n",
    "answer = 0\n",
    "measure2 = \"\"\n",
    "if measure == \"C\":\n",
    "    answer = 9.0/5.0 * temp + 32\n",
    "    measure2 = \"Fahrenheit\"\n",
    "else:\n",
    "    answer = (temp - 32) * 5.0/9.0\n",
    "    measure2 = \"Celsius\"\n",
    "print(f'{temp}{measure} is {answer} in {measure2}.')"
   ]
  },
  {
   "cell_type": "code",
   "execution_count": null,
   "metadata": {},
   "outputs": [],
   "source": []
  }
 ],
 "metadata": {
  "kernelspec": {
   "display_name": "Python 3",
   "language": "python",
   "name": "python3"
  },
  "language_info": {
   "codemirror_mode": {
    "name": "ipython",
    "version": 3
   },
   "file_extension": ".py",
   "mimetype": "text/x-python",
   "name": "python",
   "nbconvert_exporter": "python",
   "pygments_lexer": "ipython3",
   "version": "3.7.3"
  }
 },
 "nbformat": 4,
 "nbformat_minor": 4
}
